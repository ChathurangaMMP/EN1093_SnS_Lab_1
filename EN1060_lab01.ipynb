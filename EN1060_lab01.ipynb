{
  "nbformat": 4,
  "nbformat_minor": 0,
  "metadata": {
    "kernelspec": {
      "display_name": "Python 3",
      "language": "python",
      "name": "python3"
    },
    "language_info": {
      "codemirror_mode": {
        "name": "ipython",
        "version": 3
      },
      "file_extension": ".py",
      "mimetype": "text/x-python",
      "name": "python",
      "nbconvert_exporter": "python",
      "pygments_lexer": "ipython3",
      "version": "3.7.3"
    },
    "colab": {
      "name": "EN1060_lab01.ipynb",
      "provenance": [],
      "collapsed_sections": [],
      "toc_visible": true
    }
  },
  "cells": [
    {
      "cell_type": "markdown",
      "metadata": {
        "id": "3ekhIrPEi1zm"
      },
      "source": [
        "![](https://drive.google.com/uc?export=view&id=16BDB1svSIbRC1Sg6Ph9zQeiQMzwNsDU1)\r\n",
        "\r\n",
        "\r\n",
        "---\r\n",
        "**Experiment 1: Signals in Time Domain**\r\n",
        "\r\n",
        "\r\n",
        "---\r\n",
        "\r\n",
        "**Objective:** To analyze continuous-time and discrete-time signals in in time domain.\r\n",
        "\r\n",
        "**Outcome:**   After successfully completion of this session, the student would be able to  \r\n",
        "\r\n",
        "*   Plot basic continuous-time and discrete-time signals in time domain\r\n",
        "*   Creating a simple audio effect\r\n",
        "\r\n",
        "\r\n",
        "**Equipment Required:** \r\n",
        "*   A personal computer.\r\n",
        "*   Python and NumPy.\r\n",
        "*   A headphone set (to be brought by the student)\r\n",
        "\r\n",
        "**Components Required:** None\r\n",
        "\r\n",
        "---\r\n",
        "\r\n",
        "---\r\n",
        "\r\n",
        "# 1.  **Real CT Sinusoid**\r\n",
        "\r\n",
        "Consider the following general sinusoidal signal:\r\n",
        "\r\n",
        "> $x(t) = A\\cos(\\omega_0 t + \\phi)$\r\n",
        "\r\n",
        "where A is the amplitude, $\\omega_0 = 2\\pi f_0$ is the angular frequency and $\\phi$ is the phase.\r\n",
        "\r\n",
        "We can use the following Python code to plot such a signal:\r\n",
        "\r\n",
        "\r\n",
        "\r\n",
        "\r\n",
        "\r\n",
        "\r\n",
        "\r\n",
        "\r\n",
        "\r\n",
        "\r\n",
        "\r\n",
        "\r\n",
        "\r\n",
        "\r\n"
      ]
    },
    {
      "cell_type": "markdown",
      "metadata": {
        "id": "wKvuiv3rC272"
      },
      "source": [
        "Let's import required packages first"
      ]
    },
    {
      "cell_type": "code",
      "metadata": {
        "id": "HlH5-0BzDRt3"
      },
      "source": [
        "import numpy as np                   # import numpy to handle numerics\r\n",
        "import matplotlib.pyplot as plt      # import matplotlib to hadle figures\r\n",
        "\r\n",
        "%matplotlib inline"
      ],
      "execution_count": null,
      "outputs": []
    },
    {
      "cell_type": "markdown",
      "metadata": {
        "id": "ocmZUJ7Hiq_1"
      },
      "source": [
        "# Example 1.0\n",
        "* Plot of $x(t) = A\\cos(\\omega_0 t + \\phi)$ with $\\phi = 0$\n"
      ]
    },
    {
      "cell_type": "code",
      "metadata": {
        "id": "wqWSnanLirAO"
      },
      "source": [
        "fs = 44100 # 44,100-Hz sampling frequency\n",
        "ts = 1/fs\n",
        "t = np.arange(-1., 1., ts) # A linearly-spaced array with step ts\n",
        "A = 1.\n",
        "f = 2 # 2 Hz\n",
        "w0 = 2*np.pi*f\n",
        "phi = 0.\n",
        "xt = A*np.cos(w0*t + phi)\n",
        "fig, ax = plt.subplots()\n",
        "ax.plot(t,xt)\n",
        "plt.show()"
      ],
      "execution_count": null,
      "outputs": []
    },
    {
      "cell_type": "markdown",
      "metadata": {
        "id": "bwYPjc0sELRA"
      },
      "source": [
        "# Exercise (Grading)\r\n",
        "Use the following code snippet to generate plots for:\r\n",
        "\r\n",
        "\r\n",
        "1.   A = 1, $\\omega_0$ = 2$\\pi$, $\\phi$ = 0  [ i.e. $x_1(t) = cos(2 \\pi t)$]\r\n",
        "2.   A = 0.5, $\\omega_0$ = 2$\\pi$, $\\phi$ = 0 [ i.e. $x_2(t) = 0.5cos(2 \\pi t)$]\r\n",
        "3.   A = 1, $\\omega_0$ = 2$\\pi$, $\\phi$ = $\\pi/2$ [ i.e. $x_3(t) = - sin(2 \\pi t)$]\r\n",
        "4.   A = 1, $\\omega_0$ = 4$\\pi$, $\\phi$ = 0 [i.e. $x_4(t) = cos(4 \\pi t)$]\r\n",
        "\r\n",
        "\r\n"
      ]
    },
    {
      "cell_type": "code",
      "metadata": {
        "id": "TYJd_9EVM5sQ"
      },
      "source": [
        "fs = 44100 # 44,100-Hz sampling frequency\r\n",
        "ts = 1/fs\r\n",
        "t = np.arange(-1., 1., ts) # A linearly-spaced array with step ts\r\n",
        "f = 2 # 2 Hz\r\n",
        "fig, axes  = plt.subplots(2,2, sharex='all', sharey='all', figsize=(18,18))\r\n",
        "# Your code goes here \r\n",
        "xt1 =\r\n",
        "xt2 = \r\n",
        "xt3 =\r\n",
        "xt4 =\r\n",
        "\r\n",
        "axes[0, 0].plot(t,xt1)\r\n",
        "axes[0, 0].set_xlabel('$t$')\r\n",
        "axes[0, 0].set_ylabel('$xt1$')\r\n",
        "axes[0, 0].grid(True)\r\n",
        "axes[0, 0].title.set_text('$\\cos(2\\pi t)$')\r\n",
        "\r\n",
        "# Your code goes here \r\n",
        "\r\n",
        "\r\n",
        "plt.show()"
      ],
      "execution_count": null,
      "outputs": []
    },
    {
      "cell_type": "markdown",
      "metadata": {
        "id": "e-EgJuO0bph7"
      },
      "source": [
        "### Q. Among x\\_1(t), x\\_2(t), x\\_3(t), and x\\_4(t), identify the odd and even signals. (Grading)"
      ]
    },
    {
      "cell_type": "markdown",
      "metadata": {
        "id": "GRWXhzb3cLwo"
      },
      "source": [
        "\r\n",
        "\r\n",
        "1.   Odd signals  = < Your answer ( Double-click (or enter) to enter ) >\r\n",
        "2.   Even signals = < Your answer ( Double-click (or enter) to enter ) >\r\n",
        "\r\n"
      ]
    },
    {
      "cell_type": "markdown",
      "metadata": {
        "id": "OLKa2MFgirAc"
      },
      "source": [
        "# Example 1.1\r\n",
        "The following example illustrates plotting two waves in the same plot.\r\n",
        "\r\n",
        "Plot of $x(t) = A\\cos(\\omega_0 t + \\phi)$ with $\\phi = 0$ and $\\phi = \\pi/2$"
      ]
    },
    {
      "cell_type": "code",
      "metadata": {
        "id": "-WbbmoPLirAf"
      },
      "source": [
        "fs = 4.4e4 # sampling frequency\n",
        "ts = 1/fs\n",
        "t = np.arange(-1., 1., ts)\n",
        "f = 2 # 2 Hz\n",
        "w0 = 2*np.pi*f\n",
        "phi = 0.\n",
        "x1t = np.cos(w0*t + phi)\n",
        "phi = np.pi/2\n",
        "x2t = np.cos(w0*t + phi)\n",
        "fig, ax = plt.subplots()\n",
        "ax.plot(t,x1t, label='$\\cos(2\\pi t)$')\n",
        "ax.plot(t,x2t, label='$\\cos(2\\pi t + \\pi/2)$')\n",
        "ax.set_xlabel('$t$')\n",
        "ax.set_ylabel('$x(t)$')\n",
        "plt.legend(loc='lower right')\n",
        "ax.grid(True)\n",
        "\n",
        "plt.show()"
      ],
      "execution_count": null,
      "outputs": []
    },
    {
      "cell_type": "markdown",
      "metadata": {
        "id": "6HXDwfqabi_U"
      },
      "source": [
        "# 2.  **Real CT Exponential** (Grading)\r\n",
        "\r\n",
        "\r\n",
        "Write a Python code to plot the signal x(t) = $C$$e^{\\alpha t}$ with $C$ = 1.0 and $\\alpha$  = 1.2. \r\n",
        "\r\n",
        "*(Hint: np.exp gives the element-wise exponent of a NumPy array.)*"
      ]
    },
    {
      "cell_type": "code",
      "metadata": {
        "id": "Ua0jeX-qr8Hi"
      },
      "source": [
        "fs = 4.4e4 # sampling frequency\r\n",
        "ts = 1/fs\r\n",
        "t = np.arange(-1., 1., ts)\r\n",
        "\r\n",
        "# Your code goes here"
      ],
      "execution_count": null,
      "outputs": []
    },
    {
      "cell_type": "markdown",
      "metadata": {
        "id": "oLUIfhbrsy9R"
      },
      "source": [
        "### Q. Comment on the effect due to the sign of $\\alpha$ on the signal: (Grading)"
      ]
    },
    {
      "cell_type": "markdown",
      "metadata": {
        "id": "CdC6zsqgtEFN"
      },
      "source": [
        "< Your answer ( Double-click (or enter) to enter ) >"
      ]
    },
    {
      "cell_type": "markdown",
      "metadata": {
        "id": "0f6U01esthIu"
      },
      "source": [
        "# 3.  Growing Sinusoidal Signal ( Grading )"
      ]
    },
    {
      "cell_type": "markdown",
      "metadata": {
        "id": "DYTYOoz6u21I"
      },
      "source": [
        "Write a Python code to plot the signal\r\n",
        "with $x(t) = Ce^{rt}\\cos(\\omega_0 t +\\theta)$\r\n",
        "\r\n",
        "\r\n",
        "*   $ C = 0.15$ and $r = 2 $\r\n",
        "*   $ C = 0.15$ and $r = -2 $\r\n",
        "\r\n"
      ]
    },
    {
      "cell_type": "code",
      "metadata": {
        "id": "E99mMsMmwAOT"
      },
      "source": [
        "fs = 4.4e4 # sampling frequency\r\n",
        "ts = 1/fs\r\n",
        "t = np.arange(-1., 1., ts)\r\n",
        "f = 5 # 5 Hz\r\n",
        "\r\n",
        "# Your code goes here"
      ],
      "execution_count": null,
      "outputs": []
    },
    {
      "cell_type": "markdown",
      "metadata": {
        "id": "u0H5C7YzwTdP"
      },
      "source": [
        "# 4.   **Real DT Exponential** (Grading)\r\n",
        "\r\n",
        "\r\n",
        "Use the following code snippet plots the discrete-time signal $x[n] = C\\alpha^n$ for\r\n",
        "\r\n",
        "\r\n",
        "*   $C$ = 1, $\\alpha$ =  1.1\r\n",
        "*   $C$ = 1, $\\alpha$ =  0.92\r\n",
        "*   $C$ = 1, $\\alpha$ = -1.1\r\n",
        "*   $C$ = 1, $\\alpha$ = -0.92\r\n",
        "\r\n",
        "\r\n"
      ]
    },
    {
      "cell_type": "code",
      "metadata": {
        "id": "yuGLSVV0irAx"
      },
      "source": [
        "n = np.arange(-10,10,1)\n",
        "fig, axes  = plt.subplots(2,2, sharex='all', sharey='all', figsize=(18,18))\n",
        "C = 1.0\n",
        "alpha = 1.1\n",
        "xn1 = C*alpha**(n)\n",
        "\n",
        "# Your code goes here\n",
        "\n",
        "\n",
        "axes[0, 0].stem(n,xn1)\n",
        "axes[0, 0].set_xlabel('$n$')\n",
        "axes[0, 0].set_ylabel('$1.1^{n}$')\n",
        "axes[0, 0].grid(True)\n",
        "\n",
        "# Your code goes here\n",
        "\n",
        "plt.show()"
      ],
      "execution_count": null,
      "outputs": []
    },
    {
      "cell_type": "markdown",
      "metadata": {
        "id": "OfHP4OD3GwQ0"
      },
      "source": [
        "# 5.  **DT Sinusoids** (Grading)\r\n",
        "Write Python code to plot the following DT sinusoids:\r\n",
        "\r\n",
        "\r\n",
        "*   $x_1[n] $= $A cos(\\omega_0 n) $ with $A$ = 1 and $\\omega_0$ = $2\\pi/12$.\r\n",
        "*   $x_2[n] $= $A cos(\\omega_0 n) $ with $A$ = 1 and $\\omega_0$ = $2\\pi/6$.\r\n",
        "*   $x_3[n] $= $A cos(\\omega_0 n) $ with $A$ = 1 and $\\omega_0$ = $8\\pi/31$.\r\n",
        "*   $x_4[n] $= $A cos(\\omega_0 n) $ with $A$ = 1 and $\\omega_0$ = $1/1.5$.\r\n",
        "\r\n"
      ]
    },
    {
      "cell_type": "code",
      "metadata": {
        "id": "XO-qOmqsIKwI"
      },
      "source": [
        "n = np.arange(-32,32,1)\r\n",
        "fig, axes  = plt.subplots(4,1, sharey='all', figsize=(18,18))\r\n",
        "\r\n",
        "# Your code goes here"
      ],
      "execution_count": null,
      "outputs": []
    },
    {
      "cell_type": "markdown",
      "metadata": {
        "id": "D0KsccCLITgQ"
      },
      "source": [
        "### Q. Which of the signals are periodic? State the period for the periodic signals. (Grading)"
      ]
    },
    {
      "cell_type": "markdown",
      "metadata": {
        "id": "EC13pMX-JYZq"
      },
      "source": [
        "\r\n",
        "\r\n",
        "*   $x_1[n]$ : < Your answer ( Double-click (or enter) to enter ) >\r\n",
        "*   $x_2[n]$ : < Your answer ( Double-click (or enter) to enter ) >\r\n",
        "*   $x_3[n]$ : < Your answer ( Double-click (or enter) to enter ) >\r\n",
        "*   $x_4[n]$ : < Your answer ( Double-click (or enter) to enter ) >\r\n",
        "\r\n"
      ]
    },
    {
      "cell_type": "markdown",
      "metadata": {
        "id": "Rqm1l22uKSZC"
      },
      "source": [
        "# 6. General Complex Exponential Signals (Grading)\r\n",
        "\r\n",
        "Plot the real part of $x[n] = C \\alpha^n$ with $C = |C|e^{j\\theta}$, $\\alpha = |\\alpha|e^{j\\omega_0}$ for following $C$, $\\alpha$, and $\\omega_0$ values.\r\n",
        "\r\n",
        "$( Hint: Re\\{x[n]\\} = |C||\\alpha|^ncos(\\omega_0 n + \\theta))$\r\n",
        "\r\n",
        "\r\n",
        "*   $C$ = 1, $\\alpha$ =  1.1, $\\omega_0 = 2 \\pi/12$\r\n",
        "*   $C$ = 1, $\\alpha$ =  0.92, $\\omega_0 = 2 \\pi/12$\r\n",
        "\r\n",
        "\r\n"
      ]
    },
    {
      "cell_type": "code",
      "metadata": {
        "id": "sDbXC7RNg09Z"
      },
      "source": [
        "n = np.arange(-12,12,1)\r\n",
        "fig, axes  = plt.subplots(2,1, sharex='all', sharey='all', figsize=(18,18))\r\n",
        "theta = 0.0\r\n",
        "\r\n",
        "# Your code goes here"
      ],
      "execution_count": null,
      "outputs": []
    },
    {
      "cell_type": "markdown",
      "metadata": {
        "id": "a7A-lptuirA8"
      },
      "source": [
        "### Q. What will happen if $\\alpha$ is negative?"
      ]
    },
    {
      "cell_type": "markdown",
      "metadata": {
        "id": "g-iQEcG-hdqU"
      },
      "source": [
        "< Your answer ( Double-click (or enter) to enter ) >"
      ]
    },
    {
      "cell_type": "markdown",
      "metadata": {
        "id": "ByVeobhvjzkC"
      },
      "source": [
        "# 7. Transformation of the Independent Variable \r\n",
        "\r\n",
        "The following code plots a signal $x(t)$."
      ]
    },
    {
      "cell_type": "code",
      "metadata": {
        "id": "fFIWnU34kPGI"
      },
      "source": [
        "def x(t):\r\n",
        "    if (t < 0.):\r\n",
        "        return 0.\r\n",
        "    elif (t < 1.):\r\n",
        "        return 1.\r\n",
        "    elif (t < 2.):\r\n",
        "        return 2. - t\r\n",
        "    else:\r\n",
        "        return 0.\r\n",
        "\r\n",
        "fs = 4.4e4 # 44,000-Hz sampling frequency\r\n",
        "ts = 1/fs\r\n",
        "t = np.arange(-3.5, 3.5, ts) # A linearly-spaced array with step ts\r\n",
        "fig, axes  = plt.subplots(7,1, sharey='all', figsize=(10,15))\r\n",
        "\r\n",
        "# x(t)\r\n",
        "axes[0].plot(t, [x(t_) for t_ in t])\r\n",
        "axes[0].set_xlabel('$t$')\r\n",
        "axes[0].set_ylabel('$x(t)$')\r\n",
        "axes[0].grid(True)\r\n",
        "\r\n",
        "# Your code goes here\r\n",
        "\r\n",
        "plt.show()"
      ],
      "execution_count": null,
      "outputs": []
    },
    {
      "cell_type": "markdown",
      "metadata": {
        "id": "RH2Xrc6DkdiH"
      },
      "source": [
        "### Q. Update the above code to plot following functions. (Grading)\r\n",
        "\r\n",
        "\r\n",
        "*   $x(t - 1)$\r\n",
        "*   $x(t + 1)$\r\n",
        "*   $x(-t)$\r\n",
        "*   $x(-t + 1)$\r\n",
        "*   $x(3t/2)$\r\n",
        "*   $x(3t/2 + 1)$\r\n",
        "\r\n"
      ]
    },
    {
      "cell_type": "code",
      "metadata": {
        "id": "N5-vXgDLlYut"
      },
      "source": [
        "def x(t):\r\n",
        "    if (t < 0.):\r\n",
        "        return 0.\r\n",
        "    elif (t < 1.):\r\n",
        "        return 1.\r\n",
        "    elif (t < 2.):\r\n",
        "        return 2. - t\r\n",
        "    else:\r\n",
        "        return 0.\r\n",
        "\r\n",
        "fs = 4.4e4 # 44,000-Hz sampling frequency\r\n",
        "ts = 1/fs\r\n",
        "t = np.arange(-3.5, 3.5, ts) # A linearly-spaced array with step ts\r\n",
        "fig, axes  = plt.subplots(7,1, sharey='all', figsize=(10,15))\r\n",
        "\r\n",
        "# x(t)\r\n",
        "axes[0].plot(t, [x(t_) for t_ in t])\r\n",
        "axes[0].set_xlabel('$t$')\r\n",
        "axes[0].set_ylabel('$x(t)$')\r\n",
        "axes[0].grid(True)\r\n",
        "\r\n",
        "# Your code goes here\r\n",
        "\r\n",
        "plt.show()"
      ],
      "execution_count": null,
      "outputs": []
    },
    {
      "cell_type": "markdown",
      "metadata": {
        "id": "buWUFTEdcZ-P"
      },
      "source": [
        "# 8. Observing a Signal in Frequency Domain\r\n",
        "The following code plots a signal and its frequency domain representation. Note that the non-zero values are actually delta functions in frequency, which we will learn latter. "
      ]
    },
    {
      "cell_type": "code",
      "metadata": {
        "id": "IJCW7XzcdT6a"
      },
      "source": [
        "fs = 100# 100-Hz sampling frequency\r\n",
        "ts = 1/fs\r\n",
        "t = np.arange(-1., 1., ts) # A linearly-spaced array with step ts\r\n",
        "fig, axes  = plt.subplots(2,1, figsize=(10,10))\r\n",
        "\r\n",
        "\r\n",
        "f = 2 # 2 Hz\r\n",
        "omega0 = 2*np.pi*f\r\n",
        "\r\n",
        "\r\n",
        "xt = 0.75 + 2.*np.cos(omega0*t) + 1.*np.cos(3*omega0*t) \r\n",
        "    \r\n",
        "Xf = np.fft.fft(xt)\r\n",
        "freq = np.fft.fftfreq(t.shape[-1], d=ts)\r\n",
        "\r\n",
        "axes[0].plot(t,xt)\r\n",
        "axes[0].set_xlabel('$t$ in s')\r\n",
        "axes[0].set_ylabel('$x(t)$')\r\n",
        "valsubrange = np.concatenate((np.arange(0,21,1), np.arange(-1,-21,-1)))\r\n",
        "freqsubrage = np.concatenate((np.arange(0,21,1), np.arange(-1,-21,-1)))\r\n",
        "axes[1].stem(freq[freqsubrage], Xf.real[valsubrange]/len(t))\r\n",
        "axes[1].set_xlabel('$f$ in Hz')\r\n",
        "axes[1].set_ylabel('$\\mathfrak{Re}(X(j\\omega))$')\r\n",
        "plt.xticks(np.arange(-10,11))\r\n",
        "plt.show()"
      ],
      "execution_count": null,
      "outputs": []
    },
    {
      "cell_type": "markdown",
      "metadata": {
        "id": "uShxpfEZgC7v"
      },
      "source": [
        "### Q. Interpret the frequency domain representation. (Grading)"
      ]
    },
    {
      "cell_type": "markdown",
      "metadata": {
        "id": "TXZuaj_ogR-Z"
      },
      "source": [
        "< Your answer (Double-click (or enter) to edit) >"
      ]
    },
    {
      "cell_type": "markdown",
      "metadata": {
        "id": "TASq95hbjCin"
      },
      "source": [
        "# 9. Simple Audio Effects\r\n"
      ]
    },
    {
      "cell_type": "markdown",
      "metadata": {
        "id": "4fPKpeCxA7dg"
      },
      "source": [
        "First, let's install \"pyaudio\". Please run following commands"
      ]
    },
    {
      "cell_type": "code",
      "metadata": {
        "id": "OYkENx0JBPJ9"
      },
      "source": [
        "!apt install libasound2-dev portaudio19-dev libportaudio2 libportaudiocpp0 ffmpeg"
      ],
      "execution_count": null,
      "outputs": []
    },
    {
      "cell_type": "code",
      "metadata": {
        "id": "8Vrr0bZrBPuc"
      },
      "source": [
        "!pip install pyaudio"
      ],
      "execution_count": null,
      "outputs": []
    },
    {
      "cell_type": "markdown",
      "metadata": {
        "id": "UzPxSzXD4Ran"
      },
      "source": [
        "Mount your google drive "
      ]
    },
    {
      "cell_type": "code",
      "metadata": {
        "id": "sO3tRhpy4ovX"
      },
      "source": [
        "from google.colab import drive\r\n",
        "drive.mount('/content/drive')"
      ],
      "execution_count": null,
      "outputs": []
    },
    {
      "cell_type": "markdown",
      "metadata": {
        "id": "dd4AGcY_4s8G"
      },
      "source": [
        "Navigate to the current folder"
      ]
    },
    {
      "cell_type": "code",
      "metadata": {
        "id": "m4n3Y07n4xzG"
      },
      "source": [
        "# your code goes here"
      ],
      "execution_count": null,
      "outputs": []
    },
    {
      "cell_type": "markdown",
      "metadata": {
        "id": "HKIg2SrEI0Dn"
      },
      "source": [
        "The following code will play the audio file"
      ]
    },
    {
      "cell_type": "code",
      "metadata": {
        "id": "DEEV-wZrJCU6"
      },
      "source": [
        "from IPython.display import Audio # playing the echo wav file\r\n",
        "Audio('power_of_love_original.wav')"
      ],
      "execution_count": null,
      "outputs": []
    },
    {
      "cell_type": "markdown",
      "metadata": {
        "id": "BacvUqRsA8L-"
      },
      "source": [
        "The following code reads and plays a wave file. Create a simple audio effect of your choice. This will need pyaudio to be installed and ffmpeg in the path."
      ]
    },
    {
      "cell_type": "code",
      "metadata": {
        "id": "LOttjMshirBk"
      },
      "source": [
        "import numpy as np\n",
        "import pyaudio\n",
        "import wave\n",
        "from IPython.display import Audio\n",
        "\n",
        "# import utility\n",
        "\n",
        "CHUNK = 8820 # 44100 = 1 s\n",
        "\n",
        "wf = wave.open(\"power_of_love_original.wav\", 'r')\n",
        "\n",
        "p = pyaudio.PyAudio()\n",
        "nchannels=wf.getnchannels()\n",
        "\n",
        "\n",
        "stream = np.array(np.zeros(nchannels), dtype=np.int16) # init stream\n",
        "data = wf.readframes(CHUNK)\n",
        "\n",
        "dtype = '<i2' # little-endian two-byte (int16) signed integers\n",
        "\n",
        "sig = np.frombuffer(data, dtype=dtype).reshape(-1, nchannels)\n",
        "signal_chunk = np.asarray(sig)\n",
        "\n",
        "delayed = np.zeros(signal_chunk.shape, dtype=dtype)\n",
        "\n",
        "\n",
        "alpha = 1.0\n",
        "while data != '' and signal_chunk.shape[0] == CHUNK :\n",
        "\n",
        "    modified_signal_chunk = alpha*signal_chunk + (1. - alpha)*delayed\n",
        "    modified_signal_chunk_int16 = modified_signal_chunk.astype(np.int16)\n",
        "    stream = np.vstack((stream, modified_signal_chunk_int16)) # append modified to stream\n",
        "    # byte_chunk = modifed_signal_chunk_int16.tobytes()\n",
        "    # stream.write(byte_chunk)\n",
        "    delayed = signal_chunk\n",
        "    data = wf.readframes(CHUNK)\n",
        "    sig = np.frombuffer(data, dtype=dtype).reshape(-1, nchannels)\n",
        "    signal_chunk = np.asarray(sig)\n",
        "    \n",
        "\n",
        "stream = stream[1:] # pop stream init\n",
        "byte_stream = stream.tobytes() # np array to bytes \n",
        "p.terminate()\n",
        "wf.close()\n",
        "\n",
        "wfo = wave.open(\"power_of_love_eco.wav\", 'wb') # writing the bot stream to a output wav file\n",
        "wfo.setnchannels(nchannels)\n",
        "wfo.setsampwidth(wf.getsampwidth())\n",
        "wfo.setframerate(wf.getframerate())\n",
        "wfo.writeframes(byte_stream)\n",
        "wfo.close()\n",
        "\n",
        "Audio('power_of_love_eco.wav')"
      ],
      "execution_count": null,
      "outputs": []
    },
    {
      "cell_type": "markdown",
      "metadata": {
        "id": "OBe6hhezkdZC"
      },
      "source": [
        "### Q. Write down the changes that you made to the code. (Grading)"
      ]
    },
    {
      "cell_type": "markdown",
      "metadata": {
        "id": "oWsDf4cMluQG"
      },
      "source": [
        "< Your answer (Double-click (or enter) to edit) >"
      ]
    },
    {
      "cell_type": "markdown",
      "metadata": {
        "id": "RrD9Y6Msl6XN"
      },
      "source": [
        ">>> # * * * END * * *"
      ]
    }
  ]
}